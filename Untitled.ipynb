{
 "cells": [
  {
   "cell_type": "code",
   "execution_count": 1,
   "id": "located-sigma",
   "metadata": {},
   "outputs": [],
   "source": [
    "import modern_robotics as mr\n",
    "import numpy as np"
   ]
  },
  {
   "cell_type": "code",
   "execution_count": 2,
   "id": "handed-continent",
   "metadata": {},
   "outputs": [
    {
     "name": "stdout",
     "output_type": "stream",
     "text": [
      "Help on function RotInv in module modern_robotics.core:\n",
      "\n",
      "RotInv(R)\n",
      "    Inverts a rotation matrix\n",
      "    \n",
      "    :param R: A rotation matrix\n",
      "    :return: The inverse of R\n",
      "    \n",
      "    Example Input:\n",
      "        R = np.array([[0, 0, 1],\n",
      "                      [1, 0, 0],\n",
      "                      [0, 1, 0]])\n",
      "    Output:\n",
      "        np.array([[0, 1, 0],\n",
      "                  [0, 0, 1],\n",
      "                  [1, 0, 0]])\n",
      "\n"
     ]
    }
   ],
   "source": [
    "help(mr.RotInv)"
   ]
  },
  {
   "cell_type": "code",
   "execution_count": 4,
   "id": "original-savings",
   "metadata": {},
   "outputs": [
    {
     "data": {
      "text/plain": [
       "array([[ 0.60482045,  0.796274  , -0.01182979],\n",
       "       [ 0.46830057, -0.34361048,  0.81401868],\n",
       "       [ 0.64411707, -0.49787504, -0.58071821]])"
      ]
     },
     "execution_count": 4,
     "metadata": {},
     "output_type": "execute_result"
    }
   ],
   "source": [
    "mr.MatrixExp3([[0,0.5,-1],\n",
    "               [-0.5,0,2],\n",
    "               [1,-2,0]])"
   ]
  },
  {
   "cell_type": "code",
   "execution_count": 6,
   "id": "driving-north",
   "metadata": {},
   "outputs": [
    {
     "data": {
      "text/plain": [
       "array([[ 0.        ,  1.20919958,  1.20919958],\n",
       "       [-1.20919958,  0.        ,  1.20919958],\n",
       "       [-1.20919958, -1.20919958,  0.        ]])"
      ]
     },
     "execution_count": 6,
     "metadata": {},
     "output_type": "execute_result"
    }
   ],
   "source": [
    "mr.MatrixLog3([[0,0,1],\n",
    "             [-1,0,0],\n",
    "             [0,-1,0]])"
   ]
  },
  {
   "cell_type": "code",
   "execution_count": 11,
   "id": "dominican-crack",
   "metadata": {},
   "outputs": [
    {
     "name": "stdout",
     "output_type": "stream",
     "text": [
      "Help on function MatrixExp6 in module modern_robotics.core:\n",
      "\n",
      "MatrixExp6(se3mat)\n",
      "    Computes the matrix exponential of an se3 representation of\n",
      "    exponential coordinates\n",
      "    \n",
      "    :param se3mat: A matrix in se3\n",
      "    :return: The matrix exponential of se3mat\n",
      "    \n",
      "    Example Input:\n",
      "        se3mat = np.array([[0,          0,           0,          0],\n",
      "                           [0,          0, -1.57079632, 2.35619449],\n",
      "                           [0, 1.57079632,           0, 2.35619449],\n",
      "                           [0,          0,           0,          0]])\n",
      "    Output:\n",
      "        np.array([[1.0, 0.0,  0.0, 0.0],\n",
      "                  [0.0, 0.0, -1.0, 0.0],\n",
      "                  [0.0, 1.0,  0.0, 3.0],\n",
      "                  [  0,   0,    0,   1]])\n",
      "\n"
     ]
    }
   ],
   "source": [
    "help(mr.MatrixExp6)"
   ]
  },
  {
   "cell_type": "code",
   "execution_count": 3,
   "id": "fatal-james",
   "metadata": {},
   "outputs": [
    {
     "data": {
      "text/plain": [
       "array([[ 0,  1,  0,  0],\n",
       "       [-1,  0,  0,  3],\n",
       "       [ 0,  0,  1, -1],\n",
       "       [ 0,  0,  0,  1]])"
      ]
     },
     "execution_count": 3,
     "metadata": {},
     "output_type": "execute_result"
    }
   ],
   "source": [
    "mr.TransInv([[0, -1,  0, 3],\n",
    "              [1, 0, 0, 0],\n",
    "              [0, 0,  1, 1],\n",
    "              [0, 0,  0, 1]])"
   ]
  },
  {
   "cell_type": "code",
   "execution_count": 5,
   "id": "gothic-palestine",
   "metadata": {},
   "outputs": [
    {
     "data": {
      "text/plain": [
       "array([[ 0.,  0.,  0.,  0.],\n",
       "       [ 0.,  0., -1.,  2.],\n",
       "       [ 0.,  1.,  0.,  3.],\n",
       "       [ 0.,  0.,  0.,  0.]])"
      ]
     },
     "execution_count": 5,
     "metadata": {},
     "output_type": "execute_result"
    }
   ],
   "source": [
    "mr.VecTose3([1,0,0,0,2,3])"
   ]
  },
  {
   "cell_type": "code",
   "execution_count": 10,
   "id": "serious-pocket",
   "metadata": {},
   "outputs": [
    {
     "data": {
      "text/plain": [
       "array([1, 0, 0, 1, 2, 0])"
      ]
     },
     "execution_count": 10,
     "metadata": {},
     "output_type": "execute_result"
    }
   ],
   "source": [
    "q = np.array([0, 0, 2])\n",
    "s = np.array([1, 0, 0])\n",
    "h = 1\n",
    "mr.ScrewToAxis(q, s, h)"
   ]
  },
  {
   "cell_type": "code",
   "execution_count": 17,
   "id": "basic-making",
   "metadata": {},
   "outputs": [
    {
     "data": {
      "text/plain": [
       "array([[ 6.79489676e-09, -1.00000000e+00,  0.00000000e+00,\n",
       "         1.01923451e-08],\n",
       "       [ 1.00000000e+00,  6.79489676e-09,  0.00000000e+00,\n",
       "         3.00000000e+00],\n",
       "       [ 0.00000000e+00,  0.00000000e+00,  1.00000000e+00,\n",
       "         1.00000000e+00],\n",
       "       [ 0.00000000e+00,  0.00000000e+00,  0.00000000e+00,\n",
       "         1.00000000e+00]])"
      ]
     },
     "execution_count": 17,
     "metadata": {},
     "output_type": "execute_result"
    }
   ],
   "source": [
    "se3mat = np.array([[0,-1.57079632,           0, 2.35619449],\n",
    "                   [1.57079632,          0, 0, 2.35619449],\n",
    "                   [0, 0, 0, 1],\n",
    "                   [0,          0,           0,          0]])\n",
    "\n",
    "mr.MatrixExp6(se3mat)"
   ]
  },
  {
   "cell_type": "code",
   "execution_count": 19,
   "id": "adverse-mother",
   "metadata": {},
   "outputs": [
    {
     "data": {
      "text/plain": [
       "array([[ 0.        , -1.57079633,  0.        ,  2.35619449],\n",
       "       [ 1.57079633,  0.        ,  0.        , -2.35619449],\n",
       "       [ 0.        ,  0.        ,  0.        ,  1.        ],\n",
       "       [ 0.        ,  0.        ,  0.        ,  0.        ]])"
      ]
     },
     "execution_count": 19,
     "metadata": {},
     "output_type": "execute_result"
    }
   ],
   "source": [
    "mr.MatrixLog6(np.array([[0, -1, 0, 3],\n",
    "                      [1, 0, 0, 0],\n",
    "                      [0, 0, 1, 1],\n",
    "                      [0, 0, 0, 1]]))"
   ]
  },
  {
   "cell_type": "code",
   "execution_count": 6,
   "id": "infrared-reverse",
   "metadata": {},
   "outputs": [
    {
     "ename": "SyntaxError",
     "evalue": "invalid syntax (<ipython-input-6-a6cc61bd54ca>, line 1)",
     "output_type": "error",
     "traceback": [
      "\u001b[1;36m  File \u001b[1;32m\"<ipython-input-6-a6cc61bd54ca>\"\u001b[1;36m, line \u001b[1;32m1\u001b[0m\n\u001b[1;33m    Skip to the content.\u001b[0m\n\u001b[1;37m          ^\u001b[0m\n\u001b[1;31mSyntaxError\u001b[0m\u001b[1;31m:\u001b[0m invalid syntax\n"
     ]
    }
   ],
   "source": []
  },
  {
   "cell_type": "code",
   "execution_count": 7,
   "id": "british-albuquerque",
   "metadata": {},
   "outputs": [
    {
     "name": "stdout",
     "output_type": "stream",
     "text": [
      "\n",
      "Question 1:\n",
      " [[1.  ,0.  ,0.  ,3.73],\n",
      " [0.  ,1.  ,0.  ,0.  ],\n",
      " [0.  ,0.  ,1.  ,2.73],\n",
      " [0.  ,0.  ,0.  ,1.  ]]\n",
      "\n",
      "Question 2:\n",
      " [[ 0.  , 0.  , 0.  , 0.  , 0.  , 0.  ],\n",
      " [ 0.  , 1.  , 1.  , 1.  , 0.  , 0.  ],\n",
      " [ 1.  , 0.  , 0.  , 0.  , 0.  , 1.  ],\n",
      " [ 0.  , 0.  , 1.  ,-0.73, 0.  , 0.  ],\n",
      " [-1.  , 0.  , 0.  , 0.  , 0.  ,-3.73],\n",
      " [ 0.  , 1.  , 2.73, 3.73, 1.  , 0.  ]]\n",
      "\n",
      "Question 3:\n",
      " [[ 0.  , 0.  , 0.  , 0.  , 0.  , 0.  ],\n",
      " [ 0.  , 1.  , 1.  , 1.  , 0.  , 0.  ],\n",
      " [ 1.  , 0.  , 0.  , 0.  , 0.  , 1.  ],\n",
      " [ 0.  , 2.73, 3.73, 2.  , 0.  , 0.  ],\n",
      " [ 2.73, 0.  , 0.  , 0.  , 0.  , 0.  ],\n",
      " [ 0.  ,-2.73,-1.  , 0.  , 1.  , 0.  ]]\n",
      "\n",
      "Question 4:\n",
      " [[ 0.5 , 0.87, 0.  , 1.  ],\n",
      " [ 0.22,-0.13,-0.97,-1.9 ],\n",
      " [-0.84, 0.48,-0.26,-4.5 ],\n",
      " [ 0.  , 0.  , 0.  , 1.  ]]\n",
      "\n",
      "Question 5:\n",
      " [[ 0.5 , 0.87, 0.  , 1.  ],\n",
      " [ 0.22,-0.13,-0.97,-1.9 ],\n",
      " [-0.84, 0.48,-0.26,-4.5 ],\n",
      " [ 0.  , 0.  , 0.  , 1.  ]]\n"
     ]
    }
   ],
   "source": [
    "import numpy as np \n",
    "import modern_robotics as mr \n",
    "import math\n",
    "\n",
    "pi = math.pi\n",
    "\n",
    "# question 1\n",
    "M = np.array([[    1,    0,    0, 3.73],\n",
    "              [    0,    1,    0,    0],\n",
    "              [    0,    0,    1, 2.73],\n",
    "              [    0,    0,    0,    1]])\n",
    "print(\"\\nQuestion 1:\\n\", np.array2string(M, separator=',', suppress_small=True))\n",
    "\n",
    "# question 2\n",
    "Slist = np.array([[    0,    0,    1,    0,   -1,    0],\n",
    "                  [    0,    1,    0,    0,    0,    1],\n",
    "                  [    0,    1,    0,    1,    0, 2.73],\n",
    "                  [    0,    1,    0,-0.73,    0, 3.73],\n",
    "                  [    0,    0,    0,    0,    0,    1],\n",
    "                  [    0,    0,    1,    0,    -3.73,0]]).T\n",
    "print(\"\\nQuestion 2:\\n\", np.array2string(Slist, separator=',', suppress_small=True))\n",
    "\n",
    "# question 3\n",
    "Blist = np.array([[    0,    0,    1,    0, 2.73,    0],\n",
    "                  [    0,    1,    0, 2.73,    0,-2.73],\n",
    "                  [    0,    1,    0, 3.73,    0,   -1],\n",
    "                  [    0,    1,    0,    2,    0,    0],\n",
    "                  [    0,    0,    0,    0,    0,    1],\n",
    "                  [    0,    0,    1,    0,    0,    0]]).T\n",
    "print(\"\\nQuestion 3:\\n\", np.array2string(Blist, separator=',', suppress_small=True))\n",
    "\n",
    "# question 4\n",
    "thetalist_space = np.array([-pi/2, pi/2, pi/3, -pi/4, 1, pi/6])\n",
    "MatSpace = mr.FKinSpace(M, Slist, thetalist_space) \n",
    "MatSpaceOff = np.around(MatSpace, decimals=2)\n",
    "print(\"\\nQuestion 4:\\n\", np.array2string(MatSpaceOff, separator=',', suppress_small=True))\n",
    "\n",
    "# question 5\n",
    "thetalist_body = np.array([-pi/2, pi/2, pi/3, -pi/4, 1, pi/6])\n",
    "MatBody = mr.FKinBody(M, Blist, thetalist_body)\n",
    "MatBodyOff = np.around(MatBody, decimals=2)\n",
    "print(\"\\nQuestion 5:\\n\", np.array2string(MatBodyOff, separator=',', suppress_small=True))"
   ]
  },
  {
   "cell_type": "code",
   "execution_count": null,
   "id": "structural-selection",
   "metadata": {},
   "outputs": [],
   "source": []
  }
 ],
 "metadata": {
  "kernelspec": {
   "display_name": "MR-env",
   "language": "python",
   "name": "mr-env"
  },
  "language_info": {
   "codemirror_mode": {
    "name": "ipython",
    "version": 3
   },
   "file_extension": ".py",
   "mimetype": "text/x-python",
   "name": "python",
   "nbconvert_exporter": "python",
   "pygments_lexer": "ipython3",
   "version": "3.7.10"
  }
 },
 "nbformat": 4,
 "nbformat_minor": 5
}
